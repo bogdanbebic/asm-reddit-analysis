{
 "cells": [
  {
   "cell_type": "markdown",
   "metadata": {},
   "source": [
    "# Analiza drustvene mreže Reddit\n",
    "\n",
    "Univerzitet u Beogradu, Elektrotehnički fakultet, veb adresa [ovde](https://www.etf.bg.ac.rs).  \n",
    "Predmet: Analiza socijalnih mreža, veb adresa [ovde](https://rti.etf.bg.ac.rs/rti/ms1asm/).  \n",
    "Tekst projektnog zadatka se može naći na veb sajtu predmeta [ovde](https://rti.etf.bg.ac.rs/rti/ms1asm/projekti/2021-2022/ASM_PZ2_2122.pdf).  \n",
    "- Bogdan Bebić 2022/3051\n",
    "- Marta Avramović 2022/3166"
   ]
  },
  {
   "cell_type": "markdown",
   "metadata": {},
   "source": [
    "## Instalacija i učitavanje korišćenih biblioteka\n",
    "Neophodne bilioteke se mogu instalirati korišćenjem Python package instalera `pip`."
   ]
  },
  {
   "cell_type": "code",
   "execution_count": 1,
   "metadata": {},
   "outputs": [],
   "source": [
    "import os\n",
    "import networkx as nx\n",
    "import numpy as np\n",
    "import pandas as pd"
   ]
  },
  {
   "cell_type": "markdown",
   "metadata": {},
   "source": [
    "## Format skupa podataka\n",
    "Podaci su preuzeti sa sajta predmeta i otpakovani u odgovarajuće direktorijume.\n",
    "Kako postoji više datoteka sa istim tipom podataka, učitavamo ih sve zajedno i spajamo u jedinstvenu strukturu podataka."
   ]
  },
  {
   "cell_type": "code",
   "execution_count": 2,
   "metadata": {},
   "outputs": [],
   "source": [
    "reddit_data_path = \"ASM_PZ2_podaci_2122/reddit2008\"\n",
    "submission_dataPath = f\"{reddit_data_path}/submissions_2008_asm/\"\n",
    "comments_dataPath = f\"{reddit_data_path}/comments_2008_asm_v1.1/comments_2008/\"\n",
    "\n",
    "\n",
    "def loadDataSet(folderPath):\n",
    "    allFileData = pd.DataFrame([])\n",
    "    for fileName in os.listdir(folderPath):\n",
    "        singleFileData = pd.read_csv(folderPath + fileName, low_memory=False)\n",
    "        allFileData = pd.concat([allFileData, singleFileData])\n",
    "\n",
    "    return allFileData\n",
    "\n",
    "\n",
    "def groupby_count(data_frame, groupby_list):\n",
    "    return data_frame.groupby(groupby_list).size().reset_index(name=\"counts\")\n",
    "\n",
    "\n",
    "def groupby_count_sorted(data_frame, groupby_list):\n",
    "    return groupby_count(data_frame, groupby_list).sort_values('counts', ascending=False)"
   ]
  },
  {
   "cell_type": "markdown",
   "metadata": {},
   "source": [
    "## Filtriranje skupa podataka\n",
    "Na društvenoj mreži Reddit je moguće obrisati nalog - u tom slučaju se mogu dobiti podaci koji sadrže `[deleted]` kao korisničko ime.\n",
    "Ovakvi podaci nepovoljno utiču na analizu jer su ti nalozi mogli pripadati proizvoljnom broju korisnika i stoga ih filtriramo i ne koristimo u daljoj analizi."
   ]
  },
  {
   "cell_type": "code",
   "execution_count": 3,
   "metadata": {},
   "outputs": [],
   "source": [
    "submissionData = loadDataSet(submission_dataPath)\n",
    "commentsData = loadDataSet(comments_dataPath)\n",
    "\n",
    "# It is possible to have \"[deleted]\" as author name\n",
    "submissionFilter = submissionData[\"author\"] != \"[deleted]\"\n",
    "commentsFilter = commentsData[\"author\"] != \"[deleted]\"\n",
    "\n",
    "filteredSubmissions = submissionData[submissionFilter]\n",
    "filteredComments = commentsData[commentsFilter]\n",
    "\n",
    "allData = pd.concat([filteredSubmissions, filteredComments])"
   ]
  },
  {
   "cell_type": "code",
   "execution_count": 4,
   "metadata": {},
   "outputs": [
    {
     "name": "stdout",
     "output_type": "stream",
     "text": [
      "Number of different subreddits: 5032\n",
      "Comments per subreddit:\n",
      "     subreddit_id   counts\n",
      "2689         t5_6  1884629\n",
      "Authors per subreddit:\n",
      "     subreddit_id  counts\n",
      "4354         t5_6  163779\n",
      "AVG number users per subreddit:\n",
      "128.78398251192368\n",
      "Max submissions per author:\n",
      "      author  counts\n",
      "84823    gst   18870\n",
      "Max comments per author:\n",
      "                author  counts\n",
      "12603  NoMoreNicksLeft   13480\n",
      "Subreddits per author:\n",
      "         author  counts\n",
      "26173  MrKlaatu     181\n"
     ]
    }
   ],
   "source": [
    "allSubredditIds = np.union1d(submissionData['subreddit_id'], commentsData['subreddit_id'])\n",
    "print(f\"Number of different subreddits: {len(allSubredditIds)}\")\n",
    "\n",
    "commentsPerSubreddit = groupby_count_sorted(commentsData, [\"subreddit_id\"])\n",
    "print(f\"Comments per subreddit:\\n{commentsPerSubreddit[:1]}\")\n",
    "\n",
    "# subreddit - author - count interactions\n",
    "interactionsPerAuthorPerSubreddit = groupby_count(allData, [\"subreddit_id\", \"author\"])\n",
    "# subreddit - count authors\n",
    "authorsPerSubreddit = groupby_count_sorted(interactionsPerAuthorPerSubreddit, [\"subreddit_id\"])\n",
    "print(f\"Authors per subreddit:\\n{authorsPerSubreddit[:1]}\")\n",
    "\n",
    "print(f\"AVG number users per subreddit:\\n{authorsPerSubreddit['counts'].sum() / len(allSubredditIds)}\")\n",
    "\n",
    "submissionsPerAuthor = groupby_count_sorted(filteredSubmissions, ['author'])\n",
    "commentsPerAuthor = groupby_count_sorted(filteredComments, ['author'])\n",
    "print(f\"Max submissions per author:\\n{submissionsPerAuthor[:1]}\")\n",
    "print(f\"Max comments per author:\\n{commentsPerAuthor[:1]}\")\n",
    "\n",
    "# author - subreddit - count interactions\n",
    "interactionsPerSubredditPerAuthor = groupby_count(allData, ['author', 'subreddit_id'])\n",
    "# author - count subreddits\n",
    "subredditsPerAuthor = groupby_count_sorted(interactionsPerSubredditPerAuthor, ['author'])\n",
    "print(f\"Subreddits per author:\\n{subredditsPerAuthor[:1]}\")"
   ]
  },
  {
   "cell_type": "code",
   "execution_count": 5,
   "metadata": {},
   "outputs": [
    {
     "name": "stdout",
     "output_type": "stream",
     "text": [
      "Pearson correlation matrix:\n",
      "                    counts_submissions  counts_comments\n",
      "counts_submissions            1.000000         0.150412\n",
      "counts_comments               0.150412         1.000000\n"
     ]
    },
    {
     "data": {
      "image/png": "[encoded data removed]",
      "text/plain": [
       "<Figure size 432x288 with 1 Axes>"
      ]
     },
     "metadata": {
      "needs_background": "light"
     },
     "output_type": "display_data"
    }
   ],
   "source": [
    "paersonCalculation = submissionsPerAuthor.copy().merge(commentsPerAuthor.copy(), on=\"author\", how=\"inner\", suffixes=[\"_submissions\", \"_comments\"])\n",
    "paersonCalculation.plot.scatter(y=\"counts_submissions\", x=\"counts_comments\")\n",
    "print(f\"Pearson correlation matrix:\\n{paersonCalculation.corr(method='pearson')}\")"
   ]
  },
  {
   "cell_type": "code",
   "execution_count": 6,
   "metadata": {},
   "outputs": [
    {
     "name": "stdout",
     "output_type": "stream",
     "text": [
      "        Unnamed: 0     id                                                url  \\\n",
      "290534      191390  7kpe5  https://www.reddit.com/r/AskReddit/comments/7k...   \n",
      "574617      111467  6nz1k                          http://hundredpushups.com   \n",
      "57505       135995  675oj  https://www.reddit.com/r/reddit.com/comments/6...   \n",
      "942221      191265  78n1v  http://www.time.com/time/nation/article/0,8599...   \n",
      "133696       36220  7beo2  https://www.reddit.com/r/politics/comments/7be...   \n",
      "488720       73206  6jbc0  https://www.reddit.com/r/reddit.com/comments/6...   \n",
      "764729      197408  6yn6t                   http://www.cnbc.com/id/26454655?   \n",
      "721214       84267  6w7e6  https://www.reddit.com/r/reddit.com/comments/6...   \n",
      "136018       41921  7bj3f  http://www.latimes.com/news/local/la-me-gaymar...   \n",
      "772368        4466  6z2e2  http://www.nytimes.com/reuters/us/internationa...   \n",
      "\n",
      "                                                permalink        author  \\\n",
      "290534  /r/AskReddit/comments/7kpe5/i_am_constantly_wo...     [deleted]   \n",
      "574617  /r/science/comments/6nz1k/got_six_weeks_try_th...         zekel   \n",
      "57505   /r/reddit.com/comments/675oj/post_the_funniest...   matiasklein   \n",
      "942221  /r/WTF/comments/78n1v/a_black_community_in_oh_...      indorock   \n",
      "133696  /r/politics/comments/7beo2/obama_wins_the_pres...  willjohnston   \n",
      "488720  /r/reddit.com/comments/6jbc0/voice_a_true_yet_...     [deleted]   \n",
      "764729  /r/politics/comments/6yn6t/its_official_sarah_...     [deleted]   \n",
      "721214  /r/reddit.com/comments/6w7e6/just_out_of_curio...     [deleted]   \n",
      "136018  /r/reddit.com/comments/7bj3f/who_else_disguste...     [deleted]   \n",
      "772368  /r/reddit.com/comments/6z2e2/palin_says_her_da...   nucleophile   \n",
      "\n",
      "        created_utc   subreddit subreddit_id  num_comments  score  over_18  \\\n",
      "290534   1229752197   AskReddit     t5_2qh1i          3467    515    False   \n",
      "574617   1213826517     science      t5_mouw         33329   1621    False   \n",
      "57505    1201730171  reddit.com         t5_6          2039   1098    False   \n",
      "942221   1224677051         WTF     t5_2qh61          3657   1496    False   \n",
      "133696   1225857637    politics     t5_2cneq          1934   8538    False   \n",
      "488720   1210747619  reddit.com         t5_6          1808    274    False   \n",
      "764729   1220020890    politics     t5_2cneq          1668   1073    False   \n",
      "721214   1218660724  reddit.com         t5_6          1724    258    False   \n",
      "136018   1225899136  reddit.com         t5_6          1605   5992    False   \n",
      "772368   1220285161  reddit.com         t5_6          1425   1517    False   \n",
      "\n",
      "       distinguished              domain  stickied  locked  hide_score  counts  \n",
      "290534           NaN      self.AskReddit     False   False       False    3062  \n",
      "574617           NaN  hundredpushups.com     False   False       False    2897  \n",
      "57505            NaN     self.reddit.com     False   False       False    2076  \n",
      "942221           NaN            time.com     False   False       False    2042  \n",
      "133696           NaN       self.politics     False   False       False    2002  \n",
      "488720           NaN     self.reddit.com     False   False       False    1939  \n",
      "764729           NaN            cnbc.com     False   False       False    1837  \n",
      "721214           NaN     self.reddit.com     False   False       False    1826  \n",
      "136018           NaN         latimes.com     False   False       False    1731  \n",
      "772368           NaN         nytimes.com     False   False       False    1558  \n"
     ]
    }
   ],
   "source": [
    "filterNonOver18 = submissionData[\"over_18\"] == False\n",
    "filteredSubmissionsNonOver18 = submissionData[filterNonOver18]\n",
    "extractedCommentsData = pd.DataFrame(commentsData[\"link_id\"].map(lambda element: element.split(\"_\")[1]))\n",
    "commentsDataSubmissionId = groupby_count_sorted(extractedCommentsData, [\"link_id\"]).rename(columns={\"link_id\": \"id\"})\n",
    "filteredSubmissionsNonOver18JoinedComments = filteredSubmissionsNonOver18.merge(commentsDataSubmissionId, how=\"inner\", on=\"id\")\n",
    "print(filteredSubmissionsNonOver18JoinedComments.sort_values(by=\"counts\", ascending=False)[:10])"
   ]
  },
  {
   "cell_type": "markdown",
   "metadata": {},
   "source": [
    "## Modelovanje podataka grafovima\n",
    "Skup podataka modelujemo pomoću 4 različita grafa:\n",
    "1. SNet (Subreddit network) - sadrži kompletne podatke, sve sabredite i interakcije sa njima\n",
    "2. SNetF (Subreddit network filtered) - filtrirani SNet na osnovu broja korisnika koji definišu interakciju izmedju više sabredita\n",
    "3. SNetT (Subreddit network targeted) - filtrirani SNet na osnovu odabranih sabredita i grana kojima su povezani\n",
    "4. UserNet - sadrži interakcije između korisnika - komentare na objave ili na komentare\n",
    "\n",
    "Iz SNet eliminišemo sve čvorove koji nemaju nijednu granu kako bismo omogućili dalju analizu povezanosti čvorova grafa."
   ]
  },
  {
   "cell_type": "code",
   "execution_count": 7,
   "metadata": {},
   "outputs": [],
   "source": [
    "snet = nx.Graph()\n",
    "snet.add_nodes_from(allSubredditIds)\n",
    "\n",
    "authorSubredditIdGroups = allData.groupby([\"author\", \"subreddit_id\"]).groups\n",
    "groups = dict()\n",
    "for author, subredditId in authorSubredditIdGroups:\n",
    "    if author not in groups:\n",
    "        groups[author] = [subredditId]\n",
    "    else:\n",
    "        groups[author].append(subredditId)\n",
    "\n",
    "for key in groups:\n",
    "    subreddit_ids = groups[key]\n",
    "    for i in range(0, len(subreddit_ids)):\n",
    "        for j in range(i + 1, len(subreddit_ids)):\n",
    "            if snet.has_edge(subreddit_ids[i], subreddit_ids[j]):\n",
    "                snet.edges[subreddit_ids[i], subreddit_ids[j]]['weight'] += 1\n",
    "            else:\n",
    "                snet.add_edge(subreddit_ids[i], subreddit_ids[j], weight=1)\n",
    "\n",
    "snet.remove_nodes_from(list(nx.isolates(snet)))"
   ]
  },
  {
   "cell_type": "markdown",
   "metadata": {},
   "source": [
    "### Odabir praga za filtriranje grana po težini\n",
    "Prag za filtriranje je uzet kao prosečna vrednost svih težina grana u grafu SNet."
   ]
  },
  {
   "cell_type": "code",
   "execution_count": 8,
   "metadata": {},
   "outputs": [],
   "source": [
    "average_weight = sum([tags[\"weight\"] for u, v, tags in snet.edges(data=True)]) / len(snet.edges)\n",
    "w_threshold = average_weight\n",
    "\n",
    "# TODO: check if commented out works\n",
    "# snetf = snet.edge_subgraph([(u, v) for u, v, tags in snet.edges(data=True) if tags[\"weight\"] > w_threshold])\n",
    "\n",
    "snetf = nx.Graph()\n",
    "snetf.add_nodes_from(allSubredditIds)\n",
    "snetf.add_edges_from([(u, v, tags) for u, v, tags in snet.edges(data=True) if tags[\"weight\"] > w_threshold])\n",
    "\n",
    "snetf.remove_nodes_from(list(nx.isolates(snetf)))"
   ]
  },
  {
   "cell_type": "markdown",
   "metadata": {},
   "source": [
    "### Odabir sabredita od interesa\n",
    "Sabrediti od interesa za analizu pomoću SNetT su uzeti iz teksta projektog zadatka."
   ]
  },
  {
   "cell_type": "code",
   "execution_count": 9,
   "metadata": {},
   "outputs": [],
   "source": [
    "targetSubreddits = {\n",
    "    \"reddit.com\",\n",
    "    \"pics\",\n",
    "    \"worldnews\",\n",
    "    \"programming\",\n",
    "    \"business\",\n",
    "    \"politics\",\n",
    "    \"obama\",\n",
    "    \"science\",\n",
    "    \"technology\",\n",
    "    \"WTF\",\n",
    "    \"AskReddit\",\n",
    "    \"netsec\",\n",
    "    \"philosophy\",\n",
    "    \"videos\",\n",
    "    \"offbeat\",\n",
    "    \"funny\",\n",
    "    \"entertainment\",\n",
    "    \"linux\",\n",
    "    \"geek\",\n",
    "    \"gaming\",\n",
    "    \"comics\",\n",
    "    \"gadgets\",\n",
    "    \"nsfw\",\n",
    "    \"news\",\n",
    "    \"environment\",\n",
    "    \"atheism\",\n",
    "    \"canada\",\n",
    "    \"math\",\n",
    "    \"Economics\",\n",
    "    \"scifi\",\n",
    "    \"bestof\",\n",
    "    \"cogsci\",\n",
    "    \"joel\",\n",
    "    \"Health\",\n",
    "    \"guns\",\n",
    "    \"photography\",\n",
    "    \"software\",\n",
    "    \"history\",\n",
    "    \"ideas\",\n",
    "}\n",
    "\n",
    "targetSubredditIds = [allData[allData[\"subreddit\"] == targetSubreddit][\"subreddit_id\"].unique()[0] for targetSubreddit in targetSubreddits]\n",
    "snett = snet.subgraph(targetSubredditIds)"
   ]
  },
  {
   "cell_type": "markdown",
   "metadata": {},
   "source": [
    "### UserNet\n",
    "Modelujemo interakcije korisnika društvene mreže usmerenim grafom."
   ]
  },
  {
   "cell_type": "code",
   "execution_count": 10,
   "metadata": {},
   "outputs": [],
   "source": [
    "authorComments = pd.concat([filteredComments[\"author\"], filteredComments[\"link_id\"].map(lambda element: element.split(\"_\")[1])], axis=1).rename(columns={\"link_id\": \"id\"})\n",
    "authorToAuthorInteractions = groupby_count(authorComments.merge(allData[[\"author\", \"id\"]], on=\"id\", how=\"inner\", suffixes=[\"_from\", \"_to\"]), [\"author_from\", \"author_to\"])\n",
    "edge_list = authorToAuthorInteractions.rename(columns={\"author_from\": \"source\", \"author_to\": \"target\", \"counts\": \"weight\"})\n",
    "usernet = nx.from_pandas_edgelist(edge_list, edge_attr=True, create_using=nx.DiGraph)"
   ]
  },
  {
   "cell_type": "markdown",
   "metadata": {},
   "source": [
    "Dobijene grafove čuvamo u standardnom `gml` formatu na disku kako bismo im mogli pristupati i iz eksternih alata."
   ]
  },
  {
   "cell_type": "code",
   "execution_count": 11,
   "metadata": {},
   "outputs": [],
   "source": [
    "nx.write_gml(snet, \"snet.gml\")\n",
    "nx.write_gml(snetf, \"snetf.gml\")\n",
    "nx.write_gml(snett, \"snett.gml\")\n",
    "nx.write_gml(usernet, \"usernet.gml\")"
   ]
  },
  {
   "cell_type": "markdown",
   "metadata": {},
   "source": [
    "### Stepeni povezanosti\n",
    "Analiza povezanih komponenti i njihovih veličina pokazuje da graf SNet ima jednu gigantsku komponentu od `3525` čvorova i još mnogo manjih komponenti gde svaka ima manje ili jednako 3 čvora.\n",
    "\n",
    "Grafovi SNetF i SNetT su povezani u potpunosti i imaju po `691` i `39` čvorova."
   ]
  },
  {
   "cell_type": "code",
   "execution_count": 13,
   "metadata": {},
   "outputs": [
    {
     "name": "stdout",
     "output_type": "stream",
     "text": [
      "Is SNet connected: False\n",
      "Number of connected components (SNet): 20\n",
      "Number of connected components (SNetF): 1\n",
      "Number of connected components (SNetT): 1\n",
      "Sizes of connected components (SNet): [2, 2, 2, 2, 2, 2, 2, 2, 2, 2, 2, 2, 2, 2, 2, 2, 3, 3, 3, 3525]\n",
      "Sizes of connected components (SNetF): [335]\n",
      "Sizes of connected components (SNetT): [39]\n"
     ]
    }
   ],
   "source": [
    "print(f\"Is SNet connected: {nx.algorithms.components.is_connected(snet)}\")\n",
    "print(f\"Number of connected components (SNet): {len(list(nx.connected_components(snet)))}\")\n",
    "print(f\"Number of connected components (SNetF): {len(list(nx.connected_components(snetf)))}\")\n",
    "print(f\"Number of connected components (SNetT): {len(list(nx.connected_components(snett)))}\")\n",
    "\n",
    "print(f\"Sizes of connected components (SNet): {[len(_) for _ in sorted(list(nx.connected_components(snet)), key=len)]}\")\n",
    "print(f\"Sizes of connected components (SNetF): {[len(_) for _ in sorted(list(nx.connected_components(snetf)), key=len)]}\")\n",
    "print(f\"Sizes of connected components (SNetT): {[len(_) for _ in sorted(list(nx.connected_components(snett)), key=len)]}\")"
   ]
  },
  {
   "cell_type": "markdown",
   "metadata": {},
   "source": [
    "### Karakteristike grafova\n",
    "SNet ne možemo analizirati na svaki način jer se sadrži više nepovezanih komponenti, tj. nije povezan graf.\n",
    "\n",
    "UserNet ne možemo analizirati na svaki način jer je usmeren graf."
   ]
  },
  {
   "cell_type": "code",
   "execution_count": 16,
   "metadata": {},
   "outputs": [
    {
     "name": "stdout",
     "output_type": "stream",
     "text": [
      "SNet density: 0.02469418593400819\n",
      "SNet does not have an average_shortest_path_length as it is not connected.\n",
      "SNet does not have a diameter as it is not connected.\n",
      "SNetF density: 0.18634373044954866\n",
      "SNetF average_shortest_path_length: 1.8409866833497184\n",
      "SNetF diameter: 4\n",
      "SNetT density: 1.0\n",
      "SNetT average_shortest_path_length: 1.0\n",
      "SNetT diameter: 1\n",
      "UserNet density: 0.00024624401351994873\n"
     ]
    }
   ],
   "source": [
    "print(f\"SNet density: {nx.density(snet)}\")\n",
    "print(\"SNet does not have an average_shortest_path_length as it is not connected.\")\n",
    "print(\"SNet does not have a diameter as it is not connected.\")\n",
    "\n",
    "# snetLargestComponent = snet.subgraph(sorted(list(nx.connected_components(snet)), key=len)[-1])\n",
    "# print(f\"SNet largest component average_shortest_path_length: {nx.average_shortest_path_length(snetLargestComponent)}\")\n",
    "# print(f\"SNet largest component diameter: {nx.diameter(snetLargestComponent)}\")\n",
    "\n",
    "print(f\"SNetF density: {nx.density(snetf)}\")\n",
    "print(f\"SNetF average_shortest_path_length: {nx.average_shortest_path_length(snetf)}\")\n",
    "print(f\"SNetF diameter: {nx.diameter(snetf)}\")\n",
    "\n",
    "print(f\"SNetT density: {nx.density(snett)}\")\n",
    "print(f\"SNetT average_shortest_path_length: {nx.average_shortest_path_length(snett)}\")\n",
    "print(f\"SNetT diameter: {nx.diameter(snett)}\")\n",
    "\n",
    "print(f\"UserNet density: {nx.density(usernet)}\")"
   ]
  },
  {
   "cell_type": "markdown",
   "metadata": {},
   "source": [
    "### Klasterizacija grafova\n",
    "TODO: description"
   ]
  },
  {
   "cell_type": "code",
   "execution_count": 20,
   "metadata": {},
   "outputs": [
    {
     "name": "stdout",
     "output_type": "stream",
     "text": [
      "Average clustering (SNetF): 0.8219431962786927\n",
      "Average clustering (SNetT): 1.0\n",
      "Global clustering (SNetF): 0.5302053063542893\n",
      "Global clustering (SNetT): 1.0\n"
     ]
    }
   ],
   "source": [
    "# print(f\"Average clustering (SNet): {nx.average_clustering(snet)}\")\n",
    "print(f\"Average clustering (SNetF): {nx.average_clustering(snetf)}\")\n",
    "print(f\"Average clustering (SNetT): {nx.average_clustering(snett)}\")\n",
    "# print(f\"Average clustering (UserNet): {nx.average_clustering(usernet)}\")\n",
    "\n",
    "# print(f\"Global clustering (SNet): {nx.transitivity(snet)}\")\n",
    "print(f\"Global clustering (SNetF): {nx.transitivity(snetf)}\")\n",
    "print(f\"Global clustering (SNetT): {nx.transitivity(snett)}\")\n",
    "# print(f\"Global clustering (UserNet): {nx.transitivity(usernet)}\")"
   ]
  },
  {
   "cell_type": "markdown",
   "metadata": {},
   "source": [
    "#### Klub bogatih\n",
    "Kako bi izvrsavanje funkcija trajalo kratko, koristi se nenormalizovana varijanta.\n",
    "Kao sto se moze videti sa grafika dole, svi grafovi ispoljavaju klub bogatih (cvorovi su u klubu bogatih za vrednosti 1)."
   ]
  },
  {
   "cell_type": "code",
   "execution_count": 38,
   "metadata": {},
   "outputs": [
    {
     "data": {
      "text/plain": [
       "<AxesSubplot:title={'center':'SNetT rich club coefficient'}>"
      ]
     },
     "execution_count": 38,
     "metadata": {},
     "output_type": "execute_result"
    },
    {
     "data": {
      "image/png": "[encoded data removed]",
      "text/plain": [
       "<Figure size 432x288 with 1 Axes>"
      ]
     },
     "metadata": {
      "needs_background": "light"
     },
     "output_type": "display_data"
    },
    {
     "data": {
      "image/png": "[encoded data removed]",
      "text/plain": [
       "<Figure size 432x288 with 1 Axes>"
      ]
     },
     "metadata": {
      "needs_background": "light"
     },
     "output_type": "display_data"
    },
    {
     "data": {
      "image/png": "[encoded data removed]",
      "text/plain": [
       "<Figure size 432x288 with 1 Axes>"
      ]
     },
     "metadata": {
      "needs_background": "light"
     },
     "output_type": "display_data"
    }
   ],
   "source": [
    "snet_rich_club_coefficient = nx.rich_club_coefficient(snet, normalized=False)\n",
    "snetf_rich_club_coefficient = nx.rich_club_coefficient(snetf, normalized=False)\n",
    "snett_rich_club_coefficient = nx.rich_club_coefficient(snett, normalized=False)\n",
    "\n",
    "pd.DataFrame.from_dict(snet_rich_club_coefficient, orient=\"index\").plot(title=\"SNet rich club coefficient\", grid=True, legend=False)\n",
    "pd.DataFrame.from_dict(snetf_rich_club_coefficient, orient=\"index\").plot(title=\"SNetF rich club coefficient\", grid=True, legend=False)\n",
    "pd.DataFrame.from_dict(snett_rich_club_coefficient, orient=\"index\").plot(title=\"SNetT rich club coefficient\", grid=True, legend=False)"
   ]
  },
  {
   "cell_type": "code",
   "execution_count": 64,
   "metadata": {},
   "outputs": [
    {
     "data": {
      "text/plain": [
       "<AxesSubplot:xlabel='0', ylabel='1'>"
      ]
     },
     "execution_count": 64,
     "metadata": {},
     "output_type": "execute_result"
    },
    {
     "data": {
      "image/png": "[encoded data removed]",
      "text/plain": [
       "<Figure size 432x288 with 1 Axes>"
      ]
     },
     "metadata": {
      "needs_background": "light"
     },
     "output_type": "display_data"
    },
    {
     "data": {
      "image/png": "[encoded data removed]",
      "text/plain": [
       "<Figure size 432x288 with 1 Axes>"
      ]
     },
     "metadata": {
      "needs_background": "light"
     },
     "output_type": "display_data"
    },
    {
     "data": {
      "image/png": "[encoded data removed]",
      "text/plain": [
       "<Figure size 432x288 with 1 Axes>"
      ]
     },
     "metadata": {
      "needs_background": "light"
     },
     "output_type": "display_data"
    }
   ],
   "source": [
    "pd.DataFrame(snet.degree).sort_values(1).plot.scatter(x=0, y=1, legend=False, loglog=True)\n",
    "pd.DataFrame(snetf.degree).sort_values(1).plot.scatter(x=0, y=1, legend=False, loglog=True)\n",
    "pd.DataFrame(snett.degree).sort_values(1).plot.scatter(x=0, y=1, legend=False, loglog=True)"
   ]
  }
 ],
 "metadata": {
  "kernelspec": {
   "display_name": "Python 3.8.1 64-bit (system)",
   "language": "python",
   "name": "python3"
  },
  "language_info": {
   "codemirror_mode": {
    "name": "ipython",
    "version": 3
   },
   "file_extension": ".py",
   "mimetype": "text/x-python",
   "name": "python",
   "nbconvert_exporter": "python",
   "pygments_lexer": "ipython3",
   "version": "3.8.1"
  },
  "orig_nbformat": 4,
  "vscode": {
   "interpreter": {
    "hash": "d9bd2768395b42109e73d907534bd94663cdcd054d84cf8c7fc88edcbed46f4a"
   }
  }
 },
 "nbformat": 4,
 "nbformat_minor": 2
}
