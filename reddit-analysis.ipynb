{
 "cells": [
  {
   "cell_type": "markdown",
   "metadata": {},
   "source": [
    "# Reddit analysis\n",
    "// TODO: description"
   ]
  },
  {
   "cell_type": "code",
   "execution_count": 1,
   "metadata": {},
   "outputs": [],
   "source": [
    "import pandas as pd\n",
    "import numpy as np\n",
    "import os"
   ]
  },
  {
   "cell_type": "code",
   "execution_count": 2,
   "metadata": {},
   "outputs": [],
   "source": [
    "# Helper functions\n",
    "\n",
    "reddit_data_path = \"ASM_PZ2_podaci_2122/reddit2008\"\n",
    "submission_dataPath = f\"{reddit_data_path}/submissions_2008_asm/\"\n",
    "comments_dataPath = f\"{reddit_data_path}/comments_2008_asm_v1.1/comments_2008/\"\n",
    "\n",
    "\n",
    "def loadDataSet(folderPath):\n",
    "    allFileData = pd.DataFrame([])\n",
    "    for fileName in os.listdir(folderPath):\n",
    "        singleFileData = pd.read_csv(folderPath + fileName)\n",
    "        allFileData = pd.concat([allFileData, singleFileData])\n",
    "\n",
    "    return allFileData\n",
    "\n",
    "\n",
    "def groupby_count(data_frame, groupby_list):\n",
    "    return data_frame.groupby(groupby_list).size().reset_index(name=\"counts\")\n",
    "\n",
    "\n",
    "def groupby_count_sorted(data_frame, groupby_list):\n",
    "    return groupby_count(data_frame, groupby_list).sort_values('counts', ascending=False)"
   ]
  },
  {
   "cell_type": "code",
   "execution_count": 3,
   "metadata": {},
   "outputs": [
    {
     "name": "stderr",
     "output_type": "stream",
     "text": [
      "C:\\Users\\Bogdan\\AppData\\Local\\Temp\\ipykernel_9256\\1346193589.py:11: DtypeWarning: Columns (11) have mixed types. Specify dtype option on import or set low_memory=False.\n",
      "  singleFileData = pd.read_csv(folderPath + fileName)\n",
      "C:\\Users\\Bogdan\\AppData\\Local\\Temp\\ipykernel_9256\\1346193589.py:11: DtypeWarning: Columns (11) have mixed types. Specify dtype option on import or set low_memory=False.\n",
      "  singleFileData = pd.read_csv(folderPath + fileName)\n",
      "C:\\Users\\Bogdan\\AppData\\Local\\Temp\\ipykernel_9256\\1346193589.py:11: DtypeWarning: Columns (9) have mixed types. Specify dtype option on import or set low_memory=False.\n",
      "  singleFileData = pd.read_csv(folderPath + fileName)\n",
      "C:\\Users\\Bogdan\\AppData\\Local\\Temp\\ipykernel_9256\\1346193589.py:11: DtypeWarning: Columns (9) have mixed types. Specify dtype option on import or set low_memory=False.\n",
      "  singleFileData = pd.read_csv(folderPath + fileName)\n"
     ]
    }
   ],
   "source": [
    "# Load data from CSVs and filter it\n",
    "submissionData = loadDataSet(submission_dataPath)\n",
    "commentsData = loadDataSet(comments_dataPath)\n",
    "\n",
    "# It is possible to have \"[deleted]\" as author name\n",
    "submissionFilter = submissionData[\"author\"] != \"[deleted]\"\n",
    "commentsFilter = commentsData[\"author\"] != \"[deleted]\"\n",
    "\n",
    "filteredSubmissions = submissionData[submissionFilter]\n",
    "filteredComments = commentsData[commentsFilter]\n",
    "\n",
    "allData = pd.concat([filteredSubmissions, filteredComments])"
   ]
  },
  {
   "cell_type": "code",
   "execution_count": 6,
   "metadata": {},
   "outputs": [
    {
     "name": "stdout",
     "output_type": "stream",
     "text": [
      "Number of different subreddits: 5032\n",
      "Comments per subreddit:\n",
      "     subreddit_id   counts\n",
      "2689         t5_6  1884629\n",
      "Authors per subreddit:\n",
      "     subreddit_id  counts\n",
      "4354         t5_6  163779\n",
      "AVG number users per subreddit:\n",
      "128.78199523052464\n",
      "Max submissions per author:\n",
      "      author  counts\n",
      "84823    gst   18870\n",
      "Max comments per author:\n",
      "                author  counts\n",
      "12598  NoMoreNicksLeft   13480\n",
      "Subreddits per author:\n",
      "         author  counts\n",
      "26168  MrKlaatu     181\n"
     ]
    }
   ],
   "source": [
    "allSubredditIds = np.union1d(submissionData['subreddit_id'], commentsData['subreddit_id'])\n",
    "print(f\"Number of different subreddits: {len(allSubredditIds)}\")\n",
    "\n",
    "commentsPerSubreddit = groupby_count_sorted(commentsData, [\"subreddit_id\"])\n",
    "print(f\"Comments per subreddit:\\n{commentsPerSubreddit[:1]}\")\n",
    "\n",
    "# subreddit - author - count interactions\n",
    "interactionsPerAuthorPerSubreddit = groupby_count(allData, [\"subreddit_id\", \"author\"])\n",
    "# subreddit - count authors\n",
    "authorsPerSubreddit = groupby_count_sorted(interactionsPerAuthorPerSubreddit, [\"subreddit_id\"])\n",
    "print(f\"Authors per subreddit:\\n{authorsPerSubreddit[:1]}\")\n",
    "\n",
    "print(f\"AVG number users per subreddit:\\n{authorsPerSubreddit['counts'].sum() / len(allSubredditIds)}\")\n",
    "\n",
    "submissionsPerAuthor = groupby_count_sorted(filteredSubmissions, ['author'])\n",
    "commentsPerAuthor = groupby_count_sorted(filteredComments, ['author'])\n",
    "print(f\"Max submissions per author:\\n{submissionsPerAuthor[:1]}\")\n",
    "print(f\"Max comments per author:\\n{commentsPerAuthor[:1]}\")\n",
    "\n",
    "# author - subreddit - count interactions\n",
    "interactionsPerSubredditPerAuthor = groupby_count(allData, ['author', 'subreddit_id'])\n",
    "# author - count subreddits\n",
    "subredditsPerAuthor = groupby_count_sorted(interactionsPerSubredditPerAuthor, ['author'])\n",
    "print(f\"Subreddits per author:\\n{subredditsPerAuthor[:1]}\")"
   ]
  },
  {
   "cell_type": "code",
   "execution_count": 33,
   "metadata": {},
   "outputs": [
    {
     "name": "stdout",
     "output_type": "stream",
     "text": [
      "Pearson correlation matrix:\n",
      "                    counts_submissions  counts_comments\n",
      "counts_submissions            1.000000         0.150412\n",
      "counts_comments               0.150412         1.000000\n"
     ]
    },
    {
     "data": {
      "image/png": "[encoded data removed]",
      "text/plain": [
       "<Figure size 432x288 with 1 Axes>"
      ]
     },
     "metadata": {
      "needs_background": "light"
     },
     "output_type": "display_data"
    }
   ],
   "source": [
    "paersonCalculation = submissionsPerAuthor.copy().merge(commentsPerAuthor.copy(), on=\"author\", how=\"inner\", suffixes=[\"_submissions\", \"_comments\"])\n",
    "paersonCalculation.plot.scatter(y=\"counts_submissions\", x=\"counts_comments\")\n",
    "print(f\"Pearson correlation matrix:\\n{paersonCalculation.corr(method='pearson')}\")"
   ]
  },
  {
   "cell_type": "code",
   "execution_count": 62,
   "metadata": {},
   "outputs": [
    {
     "name": "stdout",
     "output_type": "stream",
     "text": [
      "Empty DataFrame\n",
      "Columns: [Unnamed: 0, id, url, permalink, author, created_utc, subreddit, subreddit_id, num_comments, score, over_18, distinguished, domain, stickied, locked, hide_score, counts]\n",
      "Index: []\n"
     ]
    }
   ],
   "source": [
    "filterNonOver18 = submissionData[\"over_18\"] == False\n",
    "filteredSubmissionsNonOver18 = submissionData[filterNonOver18]\n",
    "commentsDataSubmissionId = groupby_count_sorted(commentsData, [\"link_id\"]).rename(columns={\"link_id\": \"id\"})\n",
    "filteredSubmissionsNonOver18JoinedComments = filteredSubmissionsNonOver18.merge(commentsDataSubmissionId, how=\"inner\", on=\"id\")\n",
    "print(filteredSubmissionsNonOver18JoinedComments[:10])"
   ]
  },
  {
   "cell_type": "markdown",
   "metadata": {},
   "source": [
    "Network Development"
   ]
  }
 ],
 "metadata": {
  "kernelspec": {
   "display_name": "Python 3.8.1 64-bit (system)",
   "language": "python",
   "name": "python3"
  },
  "language_info": {
   "codemirror_mode": {
    "name": "ipython",
    "version": 3
   },
   "file_extension": ".py",
   "mimetype": "text/x-python",
   "name": "python",
   "nbconvert_exporter": "python",
   "pygments_lexer": "ipython3",
   "version": "3.8.1"
  },
  "orig_nbformat": 4,
  "vscode": {
   "interpreter": {
    "hash": "d9bd2768395b42109e73d907534bd94663cdcd054d84cf8c7fc88edcbed46f4a"
   }
  }
 },
 "nbformat": 4,
 "nbformat_minor": 2
}
