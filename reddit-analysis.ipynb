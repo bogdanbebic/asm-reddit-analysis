{
 "cells": [
  {
   "cell_type": "markdown",
   "metadata": {},
   "source": [
    "# Analiza društvene mreže Reddit\n",
    "\n",
    "Univerzitet u Beogradu, Elektrotehnički fakultet, veb adresa [ovde](https://www.etf.bg.ac.rs).  \n",
    "Predmet: Analiza socijalnih mreža, veb adresa [ovde](https://rti.etf.bg.ac.rs/rti/ms1asm/).  \n",
    "Tekst projektnog zadatka se može naći na veb sajtu predmeta [ovde](https://rti.etf.bg.ac.rs/rti/ms1asm/projekti/2021-2022/ASM_PZ2_2122.pdf).  \n",
    "- Bogdan Bebić 2022/3051\n",
    "- Marta Avramović 2022/3166"
   ]
  },
  {
   "cell_type": "markdown",
   "metadata": {},
   "source": [
    "## Instalacija i učitavanje korišćenih biblioteka\n",
    "Neophodne bilioteke se mogu instalirati korišćenjem Python package instalera `pip`."
   ]
  },
  {
   "cell_type": "code",
   "execution_count": 1,
   "metadata": {},
   "outputs": [],
   "source": [
    "import os\n",
    "import matplotlib.pyplot as plt\n",
    "import networkx as nx\n",
    "import numpy as np\n",
    "import pandas as pd"
   ]
  },
  {
   "cell_type": "markdown",
   "metadata": {},
   "source": [
    "## Format skupa podataka\n",
    "Podaci su preuzeti sa sajta predmeta i otpakovani u odgovarajuće direktorijume.\n",
    "Kako postoji više datoteka sa istim tipom podataka, učitavamo ih sve zajedno i spajamo u jedinstvenu strukturu podataka."
   ]
  },
  {
   "cell_type": "code",
   "execution_count": 2,
   "metadata": {},
   "outputs": [],
   "source": [
    "reddit_data_path = \"ASM_PZ2_podaci_2122/reddit2008\"\n",
    "submission_dataPath = f\"{reddit_data_path}/submissions_2008_asm/\"\n",
    "comments_dataPath = f\"{reddit_data_path}/comments_2008_asm_v1.1/comments_2008/\"\n",
    "\n",
    "\n",
    "def loadDataSet(folderPath):\n",
    "    allFileData = pd.DataFrame([])\n",
    "    for fileName in os.listdir(folderPath):\n",
    "        singleFileData = pd.read_csv(folderPath + fileName, low_memory=False)\n",
    "        allFileData = pd.concat([allFileData, singleFileData])\n",
    "\n",
    "    return allFileData\n",
    "\n",
    "\n",
    "def groupby_count(data_frame, groupby_list):\n",
    "    return data_frame.groupby(groupby_list).size().reset_index(name=\"counts\")\n",
    "\n",
    "\n",
    "def groupby_count_sorted(data_frame, groupby_list):\n",
    "    return groupby_count(data_frame, groupby_list).sort_values('counts', ascending=False)"
   ]
  },
  {
   "cell_type": "markdown",
   "metadata": {},
   "source": [
    "## Filtriranje skupa podataka\n",
    "Na društvenoj mreži Reddit je moguće obrisati nalog - u tom slučaju se mogu dobiti podaci koji sadrže `[deleted]` kao korisničko ime.\n",
    "Ovakvi podaci nepovoljno utiču na analizu jer su ti nalozi mogli pripadati proizvoljnom broju korisnika i stoga ih filtriramo i ne koristimo u daljoj analizi."
   ]
  },
  {
   "cell_type": "code",
   "execution_count": 3,
   "metadata": {},
   "outputs": [],
   "source": [
    "submissionData = loadDataSet(submission_dataPath)\n",
    "commentsData = loadDataSet(comments_dataPath)\n",
    "\n",
    "# It is possible to have \"[deleted]\" as author name\n",
    "submissionFilter = submissionData[\"author\"] != \"[deleted]\"\n",
    "commentsFilter = commentsData[\"author\"] != \"[deleted]\"\n",
    "\n",
    "filteredSubmissions = submissionData[submissionFilter]\n",
    "filteredComments = commentsData[commentsFilter]\n",
    "\n",
    "allData = pd.concat([filteredSubmissions, filteredComments])"
   ]
  },
  {
   "cell_type": "markdown",
   "metadata": {},
   "source": [
    "## Statistička obrada podataka"
   ]
  },
  {
   "cell_type": "code",
   "execution_count": 4,
   "metadata": {},
   "outputs": [
    {
     "name": "stdout",
     "output_type": "stream",
     "text": [
      "Number of different subreddits: 5032\n",
      "Comments per subreddit:\n",
      "     subreddit_id   counts\n",
      "2689         t5_6  1884629\n",
      "Authors per subreddit:\n",
      "     subreddit_id  counts\n",
      "4354         t5_6  163779\n",
      "AVG number users per subreddit:\n",
      "128.78398251192368\n",
      "Max submissions per author:\n",
      "      author  counts\n",
      "84823    gst   18870\n",
      "Max comments per author:\n",
      "                author  counts\n",
      "12603  NoMoreNicksLeft   13480\n",
      "Subreddits per author:\n",
      "         author  counts\n",
      "26173  MrKlaatu     181\n"
     ]
    }
   ],
   "source": [
    "allSubredditIds = np.union1d(submissionData['subreddit_id'], commentsData['subreddit_id'])\n",
    "print(f\"Number of different subreddits: {len(allSubredditIds)}\")\n",
    "\n",
    "commentsPerSubreddit = groupby_count_sorted(commentsData, [\"subreddit_id\"])\n",
    "print(f\"Comments per subreddit:\\n{commentsPerSubreddit[:1]}\")\n",
    "\n",
    "# subreddit - author - count interactions\n",
    "interactionsPerAuthorPerSubreddit = groupby_count(allData, [\"subreddit_id\", \"author\"])\n",
    "# subreddit - count authors\n",
    "authorsPerSubreddit = groupby_count_sorted(interactionsPerAuthorPerSubreddit, [\"subreddit_id\"])\n",
    "print(f\"Authors per subreddit:\\n{authorsPerSubreddit[:1]}\")\n",
    "\n",
    "print(f\"AVG number users per subreddit:\\n{authorsPerSubreddit['counts'].sum() / len(allSubredditIds)}\")\n",
    "\n",
    "submissionsPerAuthor = groupby_count_sorted(filteredSubmissions, ['author'])\n",
    "commentsPerAuthor = groupby_count_sorted(filteredComments, ['author'])\n",
    "print(f\"Max submissions per author:\\n{submissionsPerAuthor[:1]}\")\n",
    "print(f\"Max comments per author:\\n{commentsPerAuthor[:1]}\")\n",
    "\n",
    "# author - subreddit - count interactions\n",
    "interactionsPerSubredditPerAuthor = groupby_count(allData, ['author', 'subreddit_id'])\n",
    "# author - count subreddits\n",
    "subredditsPerAuthor = groupby_count_sorted(interactionsPerSubredditPerAuthor, ['author'])\n",
    "print(f\"Subreddits per author:\\n{subredditsPerAuthor[:1]}\")"
   ]
  },
  {
   "cell_type": "code",
   "execution_count": 5,
   "metadata": {},
   "outputs": [
    {
     "name": "stdout",
     "output_type": "stream",
     "text": [
      "Pearson correlation matrix:\n",
      "                    counts_submissions  counts_comments\n",
      "counts_submissions            1.000000         0.150412\n",
      "counts_comments               0.150412         1.000000\n"
     ]
    },
    {
     "data": {
      "image/png": "[encoded data removed]",
      "text/plain": [
       "<Figure size 432x288 with 1 Axes>"
      ]
     },
     "metadata": {
      "needs_background": "light"
     },
     "output_type": "display_data"
    }
   ],
   "source": [
    "paersonCalculation = submissionsPerAuthor.copy().merge(commentsPerAuthor.copy(), on=\"author\", how=\"inner\", suffixes=[\"_submissions\", \"_comments\"])\n",
    "paersonCalculation.plot.scatter(y=\"counts_submissions\", x=\"counts_comments\")\n",
    "print(f\"Pearson correlation matrix:\\n{paersonCalculation.corr(method='pearson')}\")"
   ]
  },
  {
   "cell_type": "code",
   "execution_count": 6,
   "metadata": {},
   "outputs": [
    {
     "name": "stdout",
     "output_type": "stream",
     "text": [
      "        Unnamed: 0     id                                                url  \\\n",
      "290534      191390  7kpe5  https://www.reddit.com/r/AskReddit/comments/7k...   \n",
      "574617      111467  6nz1k                          http://hundredpushups.com   \n",
      "57505       135995  675oj  https://www.reddit.com/r/reddit.com/comments/6...   \n",
      "942221      191265  78n1v  http://www.time.com/time/nation/article/0,8599...   \n",
      "133696       36220  7beo2  https://www.reddit.com/r/politics/comments/7be...   \n",
      "488720       73206  6jbc0  https://www.reddit.com/r/reddit.com/comments/6...   \n",
      "764729      197408  6yn6t                   http://www.cnbc.com/id/26454655?   \n",
      "721214       84267  6w7e6  https://www.reddit.com/r/reddit.com/comments/6...   \n",
      "136018       41921  7bj3f  http://www.latimes.com/news/local/la-me-gaymar...   \n",
      "772368        4466  6z2e2  http://www.nytimes.com/reuters/us/internationa...   \n",
      "\n",
      "                                                permalink        author  \\\n",
      "290534  /r/AskReddit/comments/7kpe5/i_am_constantly_wo...     [deleted]   \n",
      "574617  /r/science/comments/6nz1k/got_six_weeks_try_th...         zekel   \n",
      "57505   /r/reddit.com/comments/675oj/post_the_funniest...   matiasklein   \n",
      "942221  /r/WTF/comments/78n1v/a_black_community_in_oh_...      indorock   \n",
      "133696  /r/politics/comments/7beo2/obama_wins_the_pres...  willjohnston   \n",
      "488720  /r/reddit.com/comments/6jbc0/voice_a_true_yet_...     [deleted]   \n",
      "764729  /r/politics/comments/6yn6t/its_official_sarah_...     [deleted]   \n",
      "721214  /r/reddit.com/comments/6w7e6/just_out_of_curio...     [deleted]   \n",
      "136018  /r/reddit.com/comments/7bj3f/who_else_disguste...     [deleted]   \n",
      "772368  /r/reddit.com/comments/6z2e2/palin_says_her_da...   nucleophile   \n",
      "\n",
      "        created_utc   subreddit subreddit_id  num_comments  score  over_18  \\\n",
      "290534   1229752197   AskReddit     t5_2qh1i          3467    515    False   \n",
      "574617   1213826517     science      t5_mouw         33329   1621    False   \n",
      "57505    1201730171  reddit.com         t5_6          2039   1098    False   \n",
      "942221   1224677051         WTF     t5_2qh61          3657   1496    False   \n",
      "133696   1225857637    politics     t5_2cneq          1934   8538    False   \n",
      "488720   1210747619  reddit.com         t5_6          1808    274    False   \n",
      "764729   1220020890    politics     t5_2cneq          1668   1073    False   \n",
      "721214   1218660724  reddit.com         t5_6          1724    258    False   \n",
      "136018   1225899136  reddit.com         t5_6          1605   5992    False   \n",
      "772368   1220285161  reddit.com         t5_6          1425   1517    False   \n",
      "\n",
      "       distinguished              domain  stickied  locked  hide_score  counts  \n",
      "290534           NaN      self.AskReddit     False   False       False    3062  \n",
      "574617           NaN  hundredpushups.com     False   False       False    2897  \n",
      "57505            NaN     self.reddit.com     False   False       False    2076  \n",
      "942221           NaN            time.com     False   False       False    2042  \n",
      "133696           NaN       self.politics     False   False       False    2002  \n",
      "488720           NaN     self.reddit.com     False   False       False    1939  \n",
      "764729           NaN            cnbc.com     False   False       False    1837  \n",
      "721214           NaN     self.reddit.com     False   False       False    1826  \n",
      "136018           NaN         latimes.com     False   False       False    1731  \n",
      "772368           NaN         nytimes.com     False   False       False    1558  \n"
     ]
    }
   ],
   "source": [
    "filterNonOver18 = submissionData[\"over_18\"] == False\n",
    "filteredSubmissionsNonOver18 = submissionData[filterNonOver18]\n",
    "extractedCommentsData = pd.DataFrame(commentsData[\"link_id\"].map(lambda element: element.split(\"_\")[1]))\n",
    "commentsDataSubmissionId = groupby_count_sorted(extractedCommentsData, [\"link_id\"]).rename(columns={\"link_id\": \"id\"})\n",
    "filteredSubmissionsNonOver18JoinedComments = filteredSubmissionsNonOver18.merge(commentsDataSubmissionId, how=\"inner\", on=\"id\")\n",
    "topSubmissionsNonOver18JoinedComments = filteredSubmissionsNonOver18JoinedComments.sort_values(by=\"counts\", ascending=False)[:10]\n",
    "print(topSubmissionsNonOver18JoinedComments)\n",
    "topSubmissionsNonOver18JoinedComments.to_csv(\"top_submission_non_over_18.csv\")"
   ]
  },
  {
   "cell_type": "markdown",
   "metadata": {},
   "source": [
    "## Modelovanje podataka grafovima\n",
    "Skup podataka modelujemo pomoću 4 različita grafa:\n",
    "1. SNet (Subreddit network) - sadrži kompletne podatke, sve sabredite i interakcije sa njima\n",
    "2. SNetF (Subreddit network filtered) - filtrirani SNet na osnovu broja korisnika koji definišu interakciju izmedju više sabredita\n",
    "3. SNetT (Subreddit network targeted) - filtrirani SNet na osnovu odabranih sabredita i grana kojima su povezani\n",
    "4. UserNet - sadrži interakcije između korisnika - komentare na objave ili na komentare\n",
    "\n",
    "Iz SNet eliminišemo sve čvorove koji nemaju nijednu granu kako bismo omogućili dalju analizu povezanosti čvorova grafa."
   ]
  },
  {
   "cell_type": "code",
   "execution_count": 7,
   "metadata": {},
   "outputs": [],
   "source": [
    "snet = nx.Graph()\n",
    "snet.add_nodes_from(allSubredditIds)\n",
    "\n",
    "authorSubredditIdGroups = allData.groupby([\"author\", \"subreddit_id\"]).groups\n",
    "groups = dict()\n",
    "for author, subredditId in authorSubredditIdGroups:\n",
    "    if author not in groups:\n",
    "        groups[author] = [subredditId]\n",
    "    else:\n",
    "        groups[author].append(subredditId)\n",
    "\n",
    "for key in groups:\n",
    "    subreddit_ids = groups[key]\n",
    "    for i in range(0, len(subreddit_ids)):\n",
    "        for j in range(i + 1, len(subreddit_ids)):\n",
    "            if snet.has_edge(subreddit_ids[i], subreddit_ids[j]):\n",
    "                snet.edges[subreddit_ids[i], subreddit_ids[j]]['weight'] += 1\n",
    "            else:\n",
    "                snet.add_edge(subreddit_ids[i], subreddit_ids[j], weight=1)\n",
    "\n",
    "snet.remove_nodes_from(list(nx.isolates(snet)))"
   ]
  },
  {
   "cell_type": "markdown",
   "metadata": {},
   "source": [
    "### Odabir praga za filtriranje grana po težini\n",
    "Prag za filtriranje je uzet kao prosečna vrednost svih težina grana u grafu SNet."
   ]
  },
  {
   "cell_type": "code",
   "execution_count": 8,
   "metadata": {},
   "outputs": [],
   "source": [
    "average_weight = sum([tags[\"weight\"] for u, v, tags in snet.edges(data=True)]) / len(snet.edges)\n",
    "w_threshold = average_weight\n",
    "\n",
    "# TODO: check if commented out works\n",
    "# snetf = snet.edge_subgraph([(u, v) for u, v, tags in snet.edges(data=True) if tags[\"weight\"] > w_threshold])\n",
    "\n",
    "snetf = nx.Graph()\n",
    "snetf.add_nodes_from(allSubredditIds)\n",
    "snetf.add_edges_from([(u, v, tags) for u, v, tags in snet.edges(data=True) if tags[\"weight\"] > w_threshold])\n",
    "\n",
    "snetf.remove_nodes_from(list(nx.isolates(snetf)))"
   ]
  },
  {
   "cell_type": "markdown",
   "metadata": {},
   "source": [
    "### Odabir sabredita od interesa\n",
    "Sabrediti od interesa za analizu pomoću SNetT su uzeti iz teksta projektog zadatka."
   ]
  },
  {
   "cell_type": "code",
   "execution_count": 9,
   "metadata": {},
   "outputs": [],
   "source": [
    "targetSubreddits = {\n",
    "    \"reddit.com\",\n",
    "    \"pics\",\n",
    "    \"worldnews\",\n",
    "    \"programming\",\n",
    "    \"business\",\n",
    "    \"politics\",\n",
    "    \"obama\",\n",
    "    \"science\",\n",
    "    \"technology\",\n",
    "    \"WTF\",\n",
    "    \"AskReddit\",\n",
    "    \"netsec\",\n",
    "    \"philosophy\",\n",
    "    \"videos\",\n",
    "    \"offbeat\",\n",
    "    \"funny\",\n",
    "    \"entertainment\",\n",
    "    \"linux\",\n",
    "    \"geek\",\n",
    "    \"gaming\",\n",
    "    \"comics\",\n",
    "    \"gadgets\",\n",
    "    \"nsfw\",\n",
    "    \"news\",\n",
    "    \"environment\",\n",
    "    \"atheism\",\n",
    "    \"canada\",\n",
    "    \"math\",\n",
    "    \"Economics\",\n",
    "    \"scifi\",\n",
    "    \"bestof\",\n",
    "    \"cogsci\",\n",
    "    \"joel\",\n",
    "    \"Health\",\n",
    "    \"guns\",\n",
    "    \"photography\",\n",
    "    \"software\",\n",
    "    \"history\",\n",
    "    \"ideas\",\n",
    "}\n",
    "\n",
    "targetSubredditIds = [allData[allData[\"subreddit\"] == targetSubreddit][\"subreddit_id\"].unique()[0] for targetSubreddit in targetSubreddits]\n",
    "snett = snet.subgraph(targetSubredditIds)"
   ]
  },
  {
   "cell_type": "markdown",
   "metadata": {},
   "source": [
    "### UserNet\n",
    "Modelujemo interakcije korisnika društvene mreže usmerenim grafom."
   ]
  },
  {
   "cell_type": "code",
   "execution_count": 10,
   "metadata": {},
   "outputs": [],
   "source": [
    "authorComments = pd.concat([filteredComments[\"author\"], filteredComments[\"link_id\"].map(lambda element: element.split(\"_\")[1])], axis=1).rename(columns={\"link_id\": \"id\"})\n",
    "authorToAuthorInteractions = groupby_count(authorComments.merge(allData[[\"author\", \"id\"]], on=\"id\", how=\"inner\", suffixes=[\"_from\", \"_to\"]), [\"author_from\", \"author_to\"])\n",
    "edge_list = authorToAuthorInteractions.rename(columns={\"author_from\": \"source\", \"author_to\": \"target\", \"counts\": \"weight\"})\n",
    "usernet = nx.from_pandas_edgelist(edge_list, edge_attr=True, create_using=nx.DiGraph)"
   ]
  },
  {
   "cell_type": "markdown",
   "metadata": {},
   "source": [
    "Dobijene grafove čuvamo u standardnom `gml` formatu na disku kako bismo im mogli pristupati i iz eksternih alata."
   ]
  },
  {
   "cell_type": "code",
   "execution_count": 101,
   "metadata": {},
   "outputs": [],
   "source": [
    "# nx.write_gml(snet, \"snet.gml\")\n",
    "# nx.write_gml(snetf, \"snetf.gml\")\n",
    "# nx.write_gml(snett, \"snett.gml\")\n",
    "# nx.write_gml(usernet, \"usernet.gml\")"
   ]
  },
  {
   "cell_type": "markdown",
   "metadata": {},
   "source": [
    "### Generisanje Erdos-Renyi mreža\n",
    "Erdos-Renyi mreže koristimo za poređenje sa mrežama reddit podataka.\n",
    "\n",
    "Verovatnoća za stvaranje grana u grafu je odabrana kao gustina grafova koje ispitujemo."
   ]
  },
  {
   "cell_type": "code",
   "execution_count": 102,
   "metadata": {},
   "outputs": [],
   "source": [
    "# erdos_renyi_snet = nx.erdos_renyi_graph(n=snet.number_of_nodes(), p=nx.density(snet))\n",
    "# erdos_renyi_snetf = nx.erdos_renyi_graph(n=snetf.number_of_nodes(), p=nx.density(snetf))\n",
    "# erdos_renyi_usernet = nx.erdos_renyi_graph(n=usernet.number_of_nodes(), p=nx.density(usernet), directed=True)"
   ]
  },
  {
   "cell_type": "code",
   "execution_count": 103,
   "metadata": {},
   "outputs": [],
   "source": [
    "# nx.write_gml(erdos_renyi_snet, \"erdos_renyi_snet.gml\")\n",
    "# nx.write_gml(erdos_renyi_snetf, \"erdos_renyi_snetf.gml\")\n",
    "# nx.write_gml(erdos_renyi_usernet, \"erdos_renyi_usernet.gml\")"
   ]
  },
  {
   "cell_type": "markdown",
   "metadata": {},
   "source": [
    "## Analiza modelovanih grafova\n",
    "### Klub bogatih\n",
    "Kako bi izvrsavanje funkcija trajalo kratko, koristi se nenormalizovana varijanta.\n",
    "Kao sto se moze videti sa grafika dole, grafovi ispoljavaju klub bogatih (cvorovi su u klubu bogatih za vrednosti 1)."
   ]
  },
  {
   "cell_type": "code",
   "execution_count": 11,
   "metadata": {},
   "outputs": [
    {
     "data": {
      "text/plain": [
       "<AxesSubplot:title={'center':'SNetF rich club coefficient'}>"
      ]
     },
     "execution_count": 11,
     "metadata": {},
     "output_type": "execute_result"
    },
    {
     "data": {
      "image/png": "[encoded data removed]",
      "text/plain": [
       "<Figure size 432x288 with 1 Axes>"
      ]
     },
     "metadata": {
      "needs_background": "light"
     },
     "output_type": "display_data"
    },
    {
     "data": {
      "image/png": "[encoded data removed]",
      "text/plain": [
       "<Figure size 432x288 with 1 Axes>"
      ]
     },
     "metadata": {
      "needs_background": "light"
     },
     "output_type": "display_data"
    }
   ],
   "source": [
    "snet_rich_club_coefficient = nx.rich_club_coefficient(snet, normalized=False)\n",
    "snetf_rich_club_coefficient = nx.rich_club_coefficient(snetf, normalized=False)\n",
    "\n",
    "pd.DataFrame.from_dict(snet_rich_club_coefficient, orient=\"index\").plot(title=\"SNet rich club coefficient\", grid=True, legend=False)\n",
    "pd.DataFrame.from_dict(snetf_rich_club_coefficient, orient=\"index\").plot(title=\"SNetF rich club coefficient\", grid=True, legend=False)"
   ]
  },
  {
   "cell_type": "markdown",
   "metadata": {},
   "source": [
    "### Asortativna analiza\n",
    "Kako su vrednosti koeficijenata asortativnosti manje od 0, ove mreže su disortitativna - čvorovi ne teže da se povežu sa sličnim čvorovima."
   ]
  },
  {
   "cell_type": "code",
   "execution_count": 34,
   "metadata": {},
   "outputs": [
    {
     "name": "stdout",
     "output_type": "stream",
     "text": [
      "Degree assortativity (SNet) -0.436456805812687\n",
      "Degree assortativity (SNetF) -0.6177660601425986\n"
     ]
    },
    {
     "data": {
      "text/plain": [
       "<AxesSubplot:title={'center':'SNetF'}, xlabel='average_neighbor_degree', ylabel='degree'>"
      ]
     },
     "execution_count": 34,
     "metadata": {},
     "output_type": "execute_result"
    },
    {
     "data": {
      "image/png": "[encoded data removed]",
      "text/plain": [
       "<Figure size 432x288 with 1 Axes>"
      ]
     },
     "metadata": {
      "needs_background": "light"
     },
     "output_type": "display_data"
    },
    {
     "data": {
      "image/png": "[encoded data removed]",
      "text/plain": [
       "<Figure size 432x288 with 1 Axes>"
      ]
     },
     "metadata": {
      "needs_background": "light"
     },
     "output_type": "display_data"
    }
   ],
   "source": [
    "print(f\"Degree assortativity (SNet) {nx.degree_assortativity_coefficient(snet)}\")\n",
    "print(f\"Degree assortativity (SNetF) {nx.degree_assortativity_coefficient(snetf)}\")\n",
    "\n",
    "snet_node_degrees = {key: value for key, value in snet.degree}\n",
    "snet_average_neighbor_degree = nx.average_neighbor_degree(snet)\n",
    "\n",
    "snet_degree_average_neighbor_degree = pd.DataFrame.from_records([snet_node_degrees, snet_average_neighbor_degree]).T.rename(columns={ 0: \"degree\", 1: \"average_neighbor_degree\"})\n",
    "snet_degree_average_neighbor_degree.plot.scatter(x=\"average_neighbor_degree\", y=\"degree\", title=\"SNet\")\n",
    "\n",
    "snetf_node_degrees = {key: value for key, value in snetf.degree}\n",
    "snetf_average_neighbor_degree = nx.average_neighbor_degree(snetf)\n",
    "\n",
    "snetf_degree_average_neighbor_degree = pd.DataFrame.from_records([snetf_node_degrees, snetf_average_neighbor_degree]).T.rename(columns={ 0: \"degree\", 1: \"average_neighbor_degree\"})\n",
    "snetf_degree_average_neighbor_degree.plot.scatter(x=\"average_neighbor_degree\", y=\"degree\", title=\"SNetF\")"
   ]
  },
  {
   "cell_type": "markdown",
   "metadata": {},
   "source": [
    "### Stepen čvora i power law\n",
    "Mreže ne prate power law raspodelu."
   ]
  },
  {
   "cell_type": "code",
   "execution_count": 12,
   "metadata": {},
   "outputs": [
    {
     "data": {
      "image/png": "[encoded data removed]",
      "text/plain": [
       "<Figure size 432x288 with 1 Axes>"
      ]
     },
     "metadata": {
      "needs_background": "light"
     },
     "output_type": "display_data"
    }
   ],
   "source": [
    "snet_sorted_degrees = np.array(sorted([degree for node_id, degree in snet.degree]))\n",
    "snet_sorted_degrees_normalized = snet_sorted_degrees / snet_sorted_degrees[-1]\n",
    "snet_x_axis = np.linspace(0, len(snet_sorted_degrees), len(snet_sorted_degrees))\n",
    "snet_sorted_power_law = sorted(np.random.power(0.5, len(snet_sorted_degrees)))\n",
    "plt.plot(snet_x_axis, snet_sorted_degrees_normalized, label=\"SNet degrees\")\n",
    "plt.plot(snet_x_axis, snet_sorted_power_law, label=\"SNet powerlaw\")\n",
    "\n",
    "snetf_sorted_degrees = np.array(sorted([degree for node_id, degree in snetf.degree]))\n",
    "snetf_sorted_degrees_normalized = snetf_sorted_degrees / snetf_sorted_degrees[-1]\n",
    "snetf_x_axis = np.linspace(0, len(snetf_sorted_degrees), len(snetf_sorted_degrees))\n",
    "snetf_sorted_power_law = sorted(np.random.power(0.5, len(snetf_sorted_degrees)))\n",
    "plt.plot(snetf_x_axis, snetf_sorted_degrees_normalized, label=\"SNetF degrees\")\n",
    "plt.plot(snetf_x_axis, snetf_sorted_power_law, label=\"SNetF powerlaw\")\n",
    "\n",
    "plt.legend()\n",
    "plt.grid()"
   ]
  },
  {
   "cell_type": "markdown",
   "metadata": {},
   "source": [
    "### Katz centrality\n",
    "Isti čvorovi su centralni i po ovoj metrici, nezavisno od menjanja parametra beta.\n",
    "```\n",
    "t5_6 = reddit.com\n",
    "t5_2qh16 = technology\n",
    "t5_2cneq = politics\n",
    "```"
   ]
  },
  {
   "cell_type": "code",
   "execution_count": 13,
   "metadata": {},
   "outputs": [
    {
     "name": "stdout",
     "output_type": "stream",
     "text": [
      "SNet Katz central nodes:\n",
      "['t5_6', 't5_2qh16', 't5_2cneq']\n",
      "['t5_6', 't5_2qh16', 't5_2cneq']\n",
      "['t5_6', 't5_2qh16', 't5_2cneq']\n",
      "SNetF Katz central nodes:\n",
      "['t5_6', 't5_2cneq', 't5_2qh16']\n",
      "['t5_6', 't5_2cneq', 't5_2qh16']\n",
      "['t5_6', 't5_2cneq', 't5_2qh16']\n"
     ]
    }
   ],
   "source": [
    "def calculate_katz_centrality(G, beta_scalar):\n",
    "    beta_dict = dict()\n",
    "    for node_id in G.nodes:\n",
    "        beta_dict[node_id] = 1.0 if node_id != \"t5_6\" else beta_scalar\n",
    "\n",
    "    return nx.katz_centrality(G, alpha=0.0005, beta=beta_dict, max_iter=1000)\n",
    "\n",
    "count_of_most_important = 3\n",
    "\n",
    "print(\"SNet Katz central nodes:\")\n",
    "snet_katz_dict_1 = calculate_katz_centrality(snet, 1.0)\n",
    "print(sorted(snet_katz_dict_1, key=lambda node_id: -snet_katz_dict_1[node_id])[:count_of_most_important])\n",
    "snet_katz_dict_5 = calculate_katz_centrality(snet, 50.0)\n",
    "print(sorted(snet_katz_dict_5, key=lambda node_id: -snet_katz_dict_5[node_id])[:count_of_most_important])\n",
    "snet_katz_dict_10 = calculate_katz_centrality(snet, 100.0)\n",
    "print(sorted(snet_katz_dict_10, key=lambda node_id: -snet_katz_dict_10[node_id])[:count_of_most_important])\n",
    "\n",
    "print(\"SNetF Katz central nodes:\")\n",
    "snetf_katz_dict_1 = calculate_katz_centrality(snetf, 1.0)\n",
    "print(sorted(snetf_katz_dict_1, key=lambda node_id: -snetf_katz_dict_1[node_id])[:count_of_most_important])\n",
    "snetf_katz_dict_5 = calculate_katz_centrality(snetf, 50.0)\n",
    "print(sorted(snetf_katz_dict_5, key=lambda node_id: -snetf_katz_dict_5[node_id])[:count_of_most_important])\n",
    "snetf_katz_dict_10 = calculate_katz_centrality(snetf, 100.0)\n",
    "print(sorted(snetf_katz_dict_10, key=lambda node_id: -snetf_katz_dict_10[node_id])[:count_of_most_important])"
   ]
  }
 ],
 "metadata": {
  "kernelspec": {
   "display_name": "Python 3.8.1 64-bit (system)",
   "language": "python",
   "name": "python3"
  },
  "language_info": {
   "codemirror_mode": {
    "name": "ipython",
    "version": 3
   },
   "file_extension": ".py",
   "mimetype": "text/x-python",
   "name": "python",
   "nbconvert_exporter": "python",
   "pygments_lexer": "ipython3",
   "version": "3.8.1"
  },
  "orig_nbformat": 4,
  "vscode": {
   "interpreter": {
    "hash": "d9bd2768395b42109e73d907534bd94663cdcd054d84cf8c7fc88edcbed46f4a"
   }
  }
 },
 "nbformat": 4,
 "nbformat_minor": 2
}
