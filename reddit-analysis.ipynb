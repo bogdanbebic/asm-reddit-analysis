{
 "cells": [
  {
   "cell_type": "markdown",
   "metadata": {},
   "source": [
    "# Reddit analysis\n",
    "// TODO: description"
   ]
  },
  {
   "cell_type": "code",
   "execution_count": null,
   "metadata": {},
   "outputs": [],
   "source": [
    "import pandas as pd\n",
    "import numpy as np\n",
    "import os"
   ]
  },
  {
   "cell_type": "code",
   "execution_count": null,
   "metadata": {},
   "outputs": [],
   "source": [
    "# Helper functions\n",
    "\n",
    "reddit_data_path = \"ASM_PZ2_podaci_2122/reddit2008\"\n",
    "submission_dataPath = f\"{reddit_data_path}/submissions_2008_asm/\"\n",
    "comments_dataPath = f\"{reddit_data_path}/comments_2008_asm_v1.1/comments_2008/\"\n",
    "\n",
    "\n",
    "def loadDataSet(folderPath):\n",
    "    allFileData = pd.DataFrame([])\n",
    "    for fileName in os.listdir(folderPath):\n",
    "        singleFileData = pd.read_csv(folderPath + fileName)\n",
    "        allFileData = pd.concat([allFileData, singleFileData])\n",
    "\n",
    "    return allFileData\n",
    "\n",
    "\n",
    "def groupby_count(data_frame, groupby_list):\n",
    "    return data_frame.groupby(groupby_list).size().reset_index(name=\"counts\")\n",
    "\n",
    "\n",
    "def groupby_count_sorted(data_frame, groupby_list):\n",
    "    return groupby_count(data_frame, groupby_list).sort_values('counts', ascending=False)"
   ]
  },
  {
   "cell_type": "code",
   "execution_count": null,
   "metadata": {},
   "outputs": [],
   "source": [
    "# Load data from CSVs and filter it\n",
    "submissionData = loadDataSet(submission_dataPath)\n",
    "commentsData = loadDataSet(comments_dataPath)\n",
    "\n",
    "# It is possible to have \"[deleted]\" as author name\n",
    "submissionFilter = submissionData[\"author\"] != \"[deleted]\"\n",
    "commentsFilter = commentsData[\"author\"] != \"[deleted]\"\n",
    "\n",
    "filteredSubmissions = submissionData[submissionFilter]\n",
    "filteredComments = commentsData[commentsFilter]\n",
    "\n",
    "allData = pd.concat([filteredSubmissions, filteredComments])"
   ]
  },
  {
   "cell_type": "code",
   "execution_count": null,
   "metadata": {},
   "outputs": [],
   "source": [
    "allSubredditIds = np.union1d(submissionData['subreddit_id'], commentsData['subreddit_id'])\n",
    "print(f\"Number of different subreddits: {len(allSubredditIds)}\")\n",
    "\n",
    "commentsPerSubreddit = groupby_count_sorted(commentsData, [\"subreddit_id\"])\n",
    "print(f\"Comments per subreddit:\\n{commentsPerSubreddit[:10]}\")\n",
    "\n",
    "# subreddit - author - count interactions\n",
    "interactionsPerAuthorPerSubreddit = groupby_count(allData, [\"subreddit_id\", \"author\"])\n",
    "# subreddit - count authors\n",
    "authorsPerSubreddit = groupby_count_sorted(interactionsPerAuthorPerSubreddit, [\"subreddit_id\"])\n",
    "print(f\"Authors per subreddit:\\n{authorsPerSubreddit[:10]}\")\n",
    "\n",
    "print(f\"AVG number users per subreddit:\\n{authorsPerSubreddit['counts'].sum() / len(allSubredditIds)}\")\n",
    "\n",
    "submissionsPerAuthor = groupby_count_sorted(filteredSubmissions, ['author'])\n",
    "commentsPerAuthor = groupby_count_sorted(filteredComments, ['author'])\n",
    "print(f\"Max submissions per author:\\n{submissionsPerAuthor[:10]}\")\n",
    "print(f\"Max comments per author:\\n{commentsPerAuthor[:10]}\")\n",
    "\n",
    "# author - subreddit - count interactions\n",
    "interactionsPerSubredditPerAuthor = groupby_count(allData, ['author', 'subreddit_id'])\n",
    "# author - count subreddits\n",
    "subredditsPerAuthor = groupby_count_sorted(interactionsPerSubredditPerAuthor, ['author'])\n",
    "print(f\"Subreddits per author:\\n{subredditsPerAuthor[:10]}\")\n"
   ]
  }
 ],
 "metadata": {
  "kernelspec": {
   "display_name": "Python 3.8.1 64-bit (system)",
   "language": "python",
   "name": "python3"
  },
  "language_info": {
   "codemirror_mode": {
    "name": "ipython",
    "version": 3
   },
   "file_extension": ".py",
   "mimetype": "text/x-python",
   "name": "python",
   "nbconvert_exporter": "python",
   "pygments_lexer": "ipython3",
   "version": "3.8.1"
  },
  "orig_nbformat": 4,
  "vscode": {
   "interpreter": {
    "hash": "d9bd2768395b42109e73d907534bd94663cdcd054d84cf8c7fc88edcbed46f4a"
   }
  }
 },
 "nbformat": 4,
 "nbformat_minor": 2
}
